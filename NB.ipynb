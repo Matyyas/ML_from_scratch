{
 "cells": [
  {
   "cell_type": "markdown",
   "metadata": {},
   "source": [
    "# Import packages"
   ]
  },
  {
   "cell_type": "code",
   "execution_count": 1,
   "metadata": {},
   "outputs": [],
   "source": [
    "import os.path as op\n",
    "import numpy as np\n",
    "import pandas as pd\n",
    "from glob import glob\n",
    "from IPython.display import Image\n",
    "from sklearn.naive_bayes import MultinomialNB\n",
    "from sklearn.feature_extraction.text import CountVectorizer\n",
    "from sklearn.pipeline import Pipeline\n",
    "from sklearn.model_selection import GridSearchCV\n",
    "from sklearn.model_selection import KFold"
   ]
  },
  {
   "cell_type": "markdown",
   "metadata": {},
   "source": [
    "# Load the data"
   ]
  },
  {
   "cell_type": "markdown",
   "metadata": {},
   "source": [
    "The data come from the movie data review from Cornell v2.0 polarity dataset available at  http://www.cs.cornell.edu/people/pabo/movie-review-data/."
   ]
  },
  {
   "cell_type": "code",
   "execution_count": 2,
   "metadata": {},
   "outputs": [
    {
     "name": "stdout",
     "output_type": "stream",
     "text": [
      "2000 documents\n"
     ]
    }
   ],
   "source": [
    "filenames_neg = sorted(glob(op.join('/PATH/TO/DATA', 'data', 'imdb1', 'neg', '*.txt')))\n",
    "filenames_pos = sorted(glob(op.join('/PATH/TO/DATA', 'data', 'imdb1', 'pos', '*.txt')))\n",
    "\n",
    "stop_words = pd.read_csv('/PATH/TO/DATA/data/english.stop.txt', header=None)\n",
    "\n",
    "texts_neg = [open(f).read() for f in filenames_neg]\n",
    "texts_pos = [open(f).read() for f in filenames_pos]\n",
    "texts = texts_neg + texts_pos\n",
    "y = np.ones(len(texts), dtype=np.int)\n",
    "y[:len(texts_neg)] = 0.\n",
    "\n",
    "print(\"%d documents\" % len(texts))"
   ]
  },
  {
   "cell_type": "markdown",
   "metadata": {},
   "source": [
    "# Naïve Bayes from scratch for sentiment analysis"
   ]
  },
  {
   "cell_type": "markdown",
   "metadata": {},
   "source": [
    "For text mining we first built a homemade CountVectorizer (which is also available on sklearn)."
   ]
  },
  {
   "cell_type": "code",
   "execution_count": 3,
   "metadata": {},
   "outputs": [],
   "source": [
    "def count_meaningful_words(texts, stop_words):\n",
    "    \"\"\"Vectorize text : return count of each word in the text snippets\n",
    "\n",
    "    Parameters\n",
    "    ----------\n",
    "    texts : list of str\n",
    "        The texts\n",
    "\n",
    "    Returns\n",
    "    -------\n",
    "    vocabulary : dict\n",
    "        A dictionary that points to an index in counts for each word.\n",
    "        \n",
    "    counts : ndarray, shape (n_samples, n_features)\n",
    "        The counts of each word in each text.\n",
    "        n_samples == number of documents.\n",
    "        n_features == number of words in vocabulary.\n",
    "    \"\"\"\n",
    "    vocabulary = {}\n",
    "    words = set()\n",
    "    for text in texts:\n",
    "        words = words.union(set(text.split()))\n",
    "    words = [x for x in words if x not in stop_words[0].values]\n",
    "    vocabulary = dict(zip(words, range(len(words)))) \n",
    "    \n",
    "    n_features = len(vocabulary)\n",
    "    n_samples = len(texts)\n",
    "    counts = np.zeros((n_samples, n_features))\n",
    "    \n",
    "    for i, text in enumerate(texts):\n",
    "        tmp_words_list = text.split()\n",
    "        tmp_words = set(tmp_words_list)\n",
    "        for word in tmp_words:\n",
    "            if word not in stop_words[0].values:\n",
    "                count = tmp_words_list.count(word)\n",
    "                counts[i, vocabulary[word]] = count\n",
    "            \n",
    "    return vocabulary, counts"
   ]
  },
  {
   "cell_type": "markdown",
   "metadata": {},
   "source": [
    "The pseudo-code used to build our NB classifier comes from : https://nlp.stanford.edu/IR-book/pdf/irbookonlinereading.pdf p.260"
   ]
  },
  {
   "cell_type": "code",
   "execution_count": 4,
   "metadata": {},
   "outputs": [],
   "source": [
    "class NB():\n",
    "    \n",
    "    def __init__(self):\n",
    "        pass\n",
    "\n",
    "    def fit(self, X, y):        \n",
    "        texts_to_matrix = count_meaningful_words(X, stop_words)\n",
    "        \n",
    "        self.vocabulary = texts_to_matrix[0]\n",
    "        words_freq_matrix = texts_to_matrix[1]\n",
    "        number_docs = len(X)\n",
    "        self.classes = np.unique(y)\n",
    "        self.proba_c = []\n",
    "        self.cond_prob = np.zeros(shape=(len(self.vocabulary), len(self.classes)))\n",
    "        \n",
    "        for c in self.classes:\n",
    "            id_class = np.where(y == c)\n",
    "            words_from_c = np.take(words_freq_matrix, id_class, axis=0)[0]   \n",
    "            self.proba_c.append(len(words_from_c)/number_docs)\n",
    "            T_c = words_from_c.sum(axis=0)\n",
    "            for i in range(0, len(T_c)):\n",
    "                self.cond_prob[i][c] = (T_c[i] + 1) / (len(words_from_c) + np.sum(T_c))\n",
    "        \n",
    "        return self\n",
    "\n",
    "    \n",
    "    def predict(self, X_new):\n",
    "        predictions = []\n",
    "        for text in X_new:\n",
    "            score = np.zeros(shape=(len(self.classes)))\n",
    "            for c in self.classes:\n",
    "                words = text.split()\n",
    "                score[c] = np.log(self.proba_c[c])\n",
    "                for word in words:\n",
    "                    if word in self.vocabulary:\n",
    "                        score[c] += np.log(self.cond_prob[self.vocabulary.get(word)][c])               \n",
    "            predictions.append(np.argmax(score))   \n",
    "            \n",
    "        return predictions\n",
    "\n",
    "    def score(self, X, y):\n",
    "        return np.mean(self.predict(X) == y)\n"
   ]
  },
  {
   "cell_type": "markdown",
   "metadata": {},
   "source": [
    "# Comparaison of our homemade NB to sklearn NB "
   ]
  },
  {
   "cell_type": "code",
   "execution_count": 5,
   "metadata": {},
   "outputs": [
    {
     "name": "stdout",
     "output_type": "stream",
     "text": [
      "Score on fold 1 = 0.8175\n",
      "Score on fold 2 = 0.8075\n",
      "Score on fold 3 = 0.79\n",
      "Score on fold 4 = 0.77\n",
      "Score on fold 5 = 0.8425\n",
      "Average score of homemade NB classifier = 0.8055\n"
     ]
    }
   ],
   "source": [
    "X = texts\n",
    "kf = KFold(n_splits=5, shuffle=True)\n",
    "kf.get_n_splits(X)\n",
    "\n",
    "i = 0\n",
    "scores = np.zeros(shape=5)\n",
    "for train_index, test_index in kf.split(X):\n",
    "    X_train, X_test = np.take(X, train_index, axis=0), np.take(X, test_index, axis=0)\n",
    "    y_train, y_test = np.take(y, train_index, axis=0), np.take(y, test_index, axis=0)\n",
    "    \n",
    "    naive_bayes_cv = NB()\n",
    "    naive_bayes_cv.fit(X_train, y_train)\n",
    "    score = naive_bayes_cv.score(X_test, y_test)\n",
    "    scores[i] = score\n",
    "    print('Score on fold', i+1,'=', score)\n",
    "    i += 1\n",
    "    \n",
    "print('Average score of homemade NB classifier =', np.mean(scores))"
   ]
  },
  {
   "cell_type": "code",
   "execution_count": 6,
   "metadata": {},
   "outputs": [
    {
     "name": "stdout",
     "output_type": "stream",
     "text": [
      "Score on fold 1 = 0.8325\n",
      "Score on fold 2 = 0.8075\n",
      "Score on fold 3 = 0.8125\n",
      "Score on fold 4 = 0.79\n",
      "Score on fold 5 = 0.8275\n",
      "Average score of sklearn NB classifier = 0.8140000000000001\n"
     ]
    }
   ],
   "source": [
    "# Define a pipeline combining a text feature extractor with a simple classifier\n",
    "text_classification = Pipeline([\n",
    "    ('vect', CountVectorizer()),\n",
    "    ('naive_bayes', MultinomialNB()),\n",
    "])\n",
    "\n",
    "\n",
    "X = texts\n",
    "kf = KFold(n_splits=5, shuffle=True)\n",
    "kf.get_n_splits(X)\n",
    "\n",
    "i = 0\n",
    "scores = np.zeros(shape=5)\n",
    "for train_index, test_index in kf.split(X):\n",
    "    X_train, X_test = np.take(X, train_index, axis=0), np.take(X, test_index, axis=0)\n",
    "    y_train, y_test = np.take(y, train_index, axis=0), np.take(y, test_index, axis=0)\n",
    "    \n",
    "    text_classification.fit(X_train, y_train)\n",
    "    score = text_classification.score(X_test, y_test)\n",
    "    scores[i] = score\n",
    "    print('Score on fold', i+1,'=', score)\n",
    "    i += 1\n",
    "    \n",
    "print('Average score of sklearn NB classifier =', np.mean(scores))"
   ]
  }
 ],
 "metadata": {
  "kernelspec": {
   "display_name": "Python 3",
   "language": "python",
   "name": "python3"
  },
  "language_info": {
   "codemirror_mode": {
    "name": "ipython",
    "version": 3
   },
   "file_extension": ".py",
   "mimetype": "text/x-python",
   "name": "python",
   "nbconvert_exporter": "python",
   "pygments_lexer": "ipython3",
   "version": "3.6.7"
  },
  "toc": {
   "base_numbering": 1,
   "nav_menu": {},
   "number_sections": true,
   "sideBar": true,
   "skip_h1_title": false,
   "title_cell": "Table of Contents",
   "title_sidebar": "Contents",
   "toc_cell": false,
   "toc_position": {},
   "toc_section_display": true,
   "toc_window_display": false
  }
 },
 "nbformat": 4,
 "nbformat_minor": 2
}
