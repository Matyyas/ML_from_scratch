{
 "cells": [
  {
   "cell_type": "markdown",
   "metadata": {},
   "source": [
    "# Convolution from scratch (with a 'same' padding)"
   ]
  },
  {
   "cell_type": "markdown",
   "metadata": {},
   "source": [
    "A little reminder of what is a convolution regarding this difinition : https://en.wikipedia.org/wiki/Kernel_(image_processing)\n",
    "\n",
    "As an exercice, it is good to re-implement it from scratch for a complete understanding. In the code below, a 'same' 0 padding has been implemented too."
   ]
  },
  {
   "cell_type": "code",
   "execution_count": 1,
   "metadata": {
    "ExecuteTime": {
     "end_time": "2019-04-11T23:25:00.774598Z",
     "start_time": "2019-04-11T23:25:00.764203Z"
    }
   },
   "outputs": [],
   "source": [
    "# With x as the image matrix and k the kernel we apply.\n",
    "def convolution(x, k):\n",
    "    # Building of x as a matrix\n",
    "    n = int(len(x)**.5) # Shape of x\n",
    "    x_mat = []\n",
    "    while x != []:\n",
    "        x_mat.append(x[:n])\n",
    "        x = x[n:]\n",
    "    \n",
    "    # Building of k as a matrix\n",
    "    m = int(len(k)**.5) # Shape of k\n",
    "    k_mat = []\n",
    "    while k != []:\n",
    "        k_mat.append(k[:m])\n",
    "        k = k[m:]\n",
    "        \n",
    "\n",
    "    # In order to obtain a n^2 list as an output we must apply a \"same\" 0 padding to x.\n",
    "    # Given that m is an odd number (cf instructions):\n",
    "    padding = int((m - 1)/2) \n",
    "\n",
    "    # List of zeroes of the new size : n + 2p\n",
    "    zero_padding = []\n",
    "    for i in range(0, n + 2*padding):\n",
    "        zero_padding.append(0)\n",
    "        \n",
    "    # We increase the size of the matrix to : n + 2p and we fulfil the remaining terms of the matrix with 0  \n",
    "    for i in range(0, padding):\n",
    "        for j in range(0, n):\n",
    "            x_mat[j] = [0] + x_mat[j]\n",
    "            x_mat[j].append(0)\n",
    "    for i in range(0, padding):\n",
    "        x_mat = [zero_padding] + x_mat\n",
    "        x_mat.append(zero_padding)\n",
    "        \n",
    "\n",
    "    # Here we make the convolution over the x_mat after padding\n",
    "    conv = []\n",
    "    conv_term = 0\n",
    "    for row_image in range(0, n + 2*padding - m + 1):\n",
    "        for col_image in range(0, n + 2*padding - m + 1):\n",
    "            conv_term = 0\n",
    "            for row_kernel in range(0, m):\n",
    "                for col_kernel in range(0, m):\n",
    "                    # Element wise multiplication over the corresponding \"pixels\" of the image and the \n",
    "                    # element of the kernel\n",
    "                    conv_term += k_mat[row_kernel][col_kernel]*x_mat[row_image + row_kernel][col_image + col_kernel]\n",
    "            conv.append(conv_term)\n",
    "\n",
    "    return conv"
   ]
  },
  {
   "cell_type": "code",
   "execution_count": 2,
   "metadata": {
    "ExecuteTime": {
     "end_time": "2019-04-11T23:25:11.421194Z",
     "start_time": "2019-04-11T23:25:11.402509Z"
    }
   },
   "outputs": [
    {
     "data": {
      "text/plain": [
       "[7, 9, 11, 4, 15, 18, 21, 11, 23, 30, 33, 19, 13, 23, 25, 27]"
      ]
     },
     "execution_count": 2,
     "metadata": {},
     "output_type": "execute_result"
    }
   ],
   "source": [
    "x = [1, 2, 3, 4, 5, 6, 7, 8, 9, 10, 11, 12, 13, 14, 15, 16]\n",
    "k = [1, 0, 0, 0, 1, 0, 0, 0, 1]\n",
    "convolution(x, k)"
   ]
  },
  {
   "cell_type": "code",
   "execution_count": null,
   "metadata": {},
   "outputs": [],
   "source": []
  }
 ],
 "metadata": {
  "kernelspec": {
   "display_name": "Python 3",
   "language": "python",
   "name": "python3"
  },
  "language_info": {
   "codemirror_mode": {
    "name": "ipython",
    "version": 3
   },
   "file_extension": ".py",
   "mimetype": "text/x-python",
   "name": "python",
   "nbconvert_exporter": "python",
   "pygments_lexer": "ipython3",
   "version": "3.6.7"
  },
  "toc": {
   "base_numbering": 1,
   "nav_menu": {},
   "number_sections": true,
   "sideBar": true,
   "skip_h1_title": false,
   "title_cell": "Table of Contents",
   "title_sidebar": "Contents",
   "toc_cell": false,
   "toc_position": {},
   "toc_section_display": true,
   "toc_window_display": false
  }
 },
 "nbformat": 4,
 "nbformat_minor": 2
}
